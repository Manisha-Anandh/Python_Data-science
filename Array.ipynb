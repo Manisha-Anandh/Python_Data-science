{
  "nbformat": 4,
  "nbformat_minor": 0,
  "metadata": {
    "colab": {
      "provenance": []
    },
    "kernelspec": {
      "name": "python3",
      "display_name": "Python 3"
    },
    "language_info": {
      "name": "python"
    }
  },
  "cells": [
    {
      "cell_type": "markdown",
      "source": [
        "##Array"
      ],
      "metadata": {
        "id": "ErTLb2WE1_Ct"
      }
    },
    {
      "cell_type": "markdown",
      "source": [
        "Convention for importing numpy\n"
      ],
      "metadata": {
        "id": "__yHeuR80PJ8"
      }
    },
    {
      "cell_type": "code",
      "source": [
        "import numpy as np\n",
        "arr = (1,2,3,4,5)\n",
        "type(arr)"
      ],
      "metadata": {
        "colab": {
          "base_uri": "https://localhost:8080/"
        },
        "id": "HcuI_2Oq0WFW",
        "outputId": "8b596700-ebab-46a4-a507-6a7406c421cf"
      },
      "execution_count": 25,
      "outputs": [
        {
          "output_type": "execute_result",
          "data": {
            "text/plain": [
              "tuple"
            ]
          },
          "metadata": {},
          "execution_count": 25
        }
      ]
    },
    {
      "cell_type": "code",
      "source": [
        "a = np.array(arr)\n",
        "type(a)"
      ],
      "metadata": {
        "colab": {
          "base_uri": "https://localhost:8080/"
        },
        "id": "1Ct7AUu00kK2",
        "outputId": "37ad4c28-c8c8-499d-845f-22887ee65b41"
      },
      "execution_count": 26,
      "outputs": [
        {
          "output_type": "execute_result",
          "data": {
            "text/plain": [
              "numpy.ndarray"
            ]
          },
          "metadata": {},
          "execution_count": 26
        }
      ]
    },
    {
      "cell_type": "code",
      "source": [
        "print(a.ndim)\n",
        "print(a.shape)\n",
        "print(a.dtype)"
      ],
      "metadata": {
        "colab": {
          "base_uri": "https://localhost:8080/"
        },
        "id": "jCD5ebZo0uXT",
        "outputId": "3e2a0da9-5fe4-41a1-cf1a-9ce96466aecd"
      },
      "execution_count": 29,
      "outputs": [
        {
          "output_type": "stream",
          "name": "stdout",
          "text": [
            "1\n",
            "(5,)\n",
            "int64\n"
          ]
        }
      ]
    },
    {
      "cell_type": "code",
      "source": [
        "barr = [[\"a\",\"b\",\"c\"],[1,2,3]]\n",
        "type(barr)"
      ],
      "metadata": {
        "colab": {
          "base_uri": "https://localhost:8080/"
        },
        "id": "E3J4EwEo02Gt",
        "outputId": "95dcf4d4-c1f6-4c20-a1bd-54d3fecd91f0"
      },
      "execution_count": 32,
      "outputs": [
        {
          "output_type": "execute_result",
          "data": {
            "text/plain": [
              "list"
            ]
          },
          "metadata": {},
          "execution_count": 32
        }
      ]
    },
    {
      "cell_type": "code",
      "source": [
        "b = np.array(barr)\n",
        "print(b)"
      ],
      "metadata": {
        "colab": {
          "base_uri": "https://localhost:8080/"
        },
        "id": "7Bnrx4NQ1f4Y",
        "outputId": "1e885638-32bf-4193-a48c-06a106ef44d3"
      },
      "execution_count": 34,
      "outputs": [
        {
          "output_type": "stream",
          "name": "stdout",
          "text": [
            "[['a' 'b' 'c']\n",
            " ['1' '2' '3']]\n"
          ]
        }
      ]
    },
    {
      "cell_type": "code",
      "source": [
        "print(b.ndim)\n",
        "print(b.shape)\n",
        "print(b.dtype)"
      ],
      "metadata": {
        "colab": {
          "base_uri": "https://localhost:8080/"
        },
        "id": "MJzm-p581qm_",
        "outputId": "e5eb72cb-d7d9-4522-fae4-3e7f7cc03968"
      },
      "execution_count": 35,
      "outputs": [
        {
          "output_type": "stream",
          "name": "stdout",
          "text": [
            "2\n",
            "(2, 3)\n",
            "<U21\n"
          ]
        }
      ]
    },
    {
      "cell_type": "markdown",
      "source": [
        "Inbuild functions that can be used to initialize numpy"
      ],
      "metadata": {
        "id": "QyEd_XJc2IIX"
      }
    },
    {
      "cell_type": "code",
      "source": [
        "np.random.random((2,4)) #takes random value for array"
      ],
      "metadata": {
        "colab": {
          "base_uri": "https://localhost:8080/"
        },
        "id": "k9O7P56L2eZF",
        "outputId": "713ea71c-a788-4b91-e37b-8be600679a65"
      },
      "execution_count": 40,
      "outputs": [
        {
          "output_type": "execute_result",
          "data": {
            "text/plain": [
              "array([[0.94884811, 0.06465564, 0.1756062 , 0.03636608],\n",
              "       [0.39887329, 0.54738957, 0.64081698, 0.74777001]])"
            ]
          },
          "metadata": {},
          "execution_count": 40
        }
      ]
    },
    {
      "cell_type": "code",
      "source": [
        "np.zeros((2,5), dtype = None) #array of 0"
      ],
      "metadata": {
        "colab": {
          "base_uri": "https://localhost:8080/"
        },
        "id": "eeokGAYk3E5L",
        "outputId": "f9943a8a-84dd-42ee-b3af-605bd2784e06"
      },
      "execution_count": 43,
      "outputs": [
        {
          "output_type": "execute_result",
          "data": {
            "text/plain": [
              "array([[0., 0., 0., 0., 0.],\n",
              "       [0., 0., 0., 0., 0.]])"
            ]
          },
          "metadata": {},
          "execution_count": 43
        }
      ]
    },
    {
      "cell_type": "code",
      "source": [
        "np.ones((2,2)) #array of 1"
      ],
      "metadata": {
        "colab": {
          "base_uri": "https://localhost:8080/"
        },
        "id": "Y8rsHtZ73TGb",
        "outputId": "2955545a-36c0-4a56-dd56-00892a411f15"
      },
      "execution_count": 46,
      "outputs": [
        {
          "output_type": "execute_result",
          "data": {
            "text/plain": [
              "array([[1., 1.],\n",
              "       [1., 1.]])"
            ]
          },
          "metadata": {},
          "execution_count": 46
        }
      ]
    },
    {
      "cell_type": "code",
      "source": [
        "np.identity(9)"
      ],
      "metadata": {
        "colab": {
          "base_uri": "https://localhost:8080/"
        },
        "id": "24X5L2ql3hPZ",
        "outputId": "2379b58d-44ec-4411-8364-b869c0652adb"
      },
      "execution_count": 52,
      "outputs": [
        {
          "output_type": "execute_result",
          "data": {
            "text/plain": [
              "array([[1., 0., 0., 0., 0., 0., 0., 0., 0.],\n",
              "       [0., 1., 0., 0., 0., 0., 0., 0., 0.],\n",
              "       [0., 0., 1., 0., 0., 0., 0., 0., 0.],\n",
              "       [0., 0., 0., 1., 0., 0., 0., 0., 0.],\n",
              "       [0., 0., 0., 0., 1., 0., 0., 0., 0.],\n",
              "       [0., 0., 0., 0., 0., 1., 0., 0., 0.],\n",
              "       [0., 0., 0., 0., 0., 0., 1., 0., 0.],\n",
              "       [0., 0., 0., 0., 0., 0., 0., 1., 0.],\n",
              "       [0., 0., 0., 0., 0., 0., 0., 0., 1.]])"
            ]
          },
          "metadata": {},
          "execution_count": 52
        }
      ]
    },
    {
      "cell_type": "markdown",
      "source": [
        "Intra-oprability of arrays and scalars\n"
      ],
      "metadata": {
        "id": "i8cf1HB94LZY"
      }
    },
    {
      "cell_type": "code",
      "source": [
        "m = np.array([[1,2,3],[2,6,11]])\n",
        "n = np.array([[2,3,7],[4,9,1]])\n"
      ],
      "metadata": {
        "id": "pmqYXMHb32x-"
      },
      "execution_count": 58,
      "outputs": []
    },
    {
      "cell_type": "code",
      "source": [
        "print(m + n)\n",
        "print(m**2)\n",
        "print(1-n)\n",
        "print(10/n+m)"
      ],
      "metadata": {
        "colab": {
          "base_uri": "https://localhost:8080/"
        },
        "id": "yKaYzICw4ffB",
        "outputId": "17ce69a1-98ca-4edc-8786-b62358e63756"
      },
      "execution_count": 61,
      "outputs": [
        {
          "output_type": "stream",
          "name": "stdout",
          "text": [
            "[[ 3  5 10]\n",
            " [ 6 15 12]]\n",
            "[[  1   4   9]\n",
            " [  4  36 121]]\n",
            "[[-1 -2 -6]\n",
            " [-3 -8  0]]\n",
            "[[ 6.          5.33333333  4.42857143]\n",
            " [ 4.5         7.11111111 21.        ]]\n"
          ]
        }
      ]
    },
    {
      "cell_type": "markdown",
      "source": [
        "Slicing"
      ],
      "metadata": {
        "id": "WdE2g8Jp5UFp"
      }
    },
    {
      "cell_type": "code",
      "source": [
        "print(m[:2])\n",
        "print(n[:0,:2])"
      ],
      "metadata": {
        "colab": {
          "base_uri": "https://localhost:8080/"
        },
        "id": "hqzA_U4E42yQ",
        "outputId": "92669ee1-ace1-41b1-f267-c969f6095729"
      },
      "execution_count": 66,
      "outputs": [
        {
          "output_type": "stream",
          "name": "stdout",
          "text": [
            "[[ 1  2  3]\n",
            " [ 2  6 11]]\n",
            "[]\n"
          ]
        }
      ]
    },
    {
      "cell_type": "code",
      "source": [],
      "metadata": {
        "id": "gkAWqDOj5XYx"
      },
      "execution_count": null,
      "outputs": []
    }
  ]
}